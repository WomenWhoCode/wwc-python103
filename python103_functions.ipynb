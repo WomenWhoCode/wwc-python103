{
 "cells": [
  {
   "cell_type": "markdown",
   "metadata": {
    "deletable": true,
    "editable": true
   },
   "source": [
    "# Functions"
   ]
  },
  {
   "cell_type": "markdown",
   "metadata": {
    "deletable": true,
    "editable": true
   },
   "source": [
    "> **Functions give our programs flexibility.** \n",
    "\n",
    "> **Functions give our programs behaviour.**\n",
    "\n",
    "> **Functions give our programs structure. **\n",
    "\n",
    "> **Functions enable code resuse. **"
   ]
  },
  {
   "cell_type": "markdown",
   "metadata": {
    "deletable": true,
    "editable": true
   },
   "source": [
    "## Problem: I want to print several lists, with varying content, and varying lengths."
   ]
  },
  {
   "cell_type": "code",
   "execution_count": 4,
   "metadata": {
    "collapsed": false,
    "deletable": true,
    "editable": true
   },
   "outputs": [
    {
     "name": "stdout",
     "output_type": "stream",
     "text": [
      "[0]\n",
      "[0, 1]\n",
      "[0, 1, 2]\n",
      "[0, 1, 2, 3]\n"
     ]
    }
   ],
   "source": [
    "l = []\n",
    "for num in range(4):\n",
    "    l.append(num)\n",
    "    print(l)"
   ]
  },
  {
   "cell_type": "markdown",
   "metadata": {
    "deletable": true,
    "editable": true
   },
   "source": [
    "## Excellent, now we need a version that adds 2 to each number on the fly!"
   ]
  },
  {
   "cell_type": "code",
   "execution_count": 5,
   "metadata": {
    "collapsed": false,
    "deletable": true,
    "editable": true
   },
   "outputs": [
    {
     "name": "stdout",
     "output_type": "stream",
     "text": [
      "[2]\n",
      "[2, 3]\n",
      "[2, 3, 4]\n",
      "[2, 3, 4, 5]\n"
     ]
    }
   ],
   "source": [
    "l = []\n",
    "for num in range(4):\n",
    "    l.append(num+2)\n",
    "    print(l)"
   ]
  },
  {
   "cell_type": "markdown",
   "metadata": {
    "deletable": true,
    "editable": true
   },
   "source": [
    "## Fantastic! One last change, generate the lists, save them to a file, send an email with the file as an attachment and send a tweet to celebrate your success - all using code!"
   ]
  },
  {
   "cell_type": "markdown",
   "metadata": {
    "deletable": true,
    "editable": true
   },
   "source": [
    "![where to begin](./images/where-to-begin.jpg)"
   ]
  },
  {
   "cell_type": "markdown",
   "metadata": {
    "deletable": true,
    "editable": true
   },
   "source": [
    "### If we want our code to do more, we need better tools to manage our code.\n",
    "\n",
    "> **Functions are the first, and perhaps the most important of these tools.**\n",
    "\n",
    "> **Functions allow us to break apart problems into managable chunks!**"
   ]
  },
  {
   "cell_type": "markdown",
   "metadata": {
    "deletable": true,
    "editable": true
   },
   "source": [
    "# What do functions look like?\n",
    "\n",
    "Functions are comprised of 4 parts:\n",
    "\n",
    "- `def`              : a reserved word in the Python language - all functions require it!\n",
    "- function name      : usually of the underscore delimited form e.g. `my_function_name`\n",
    "- optional parameters: we can give extra information to functions using parameters\n",
    "- function body      : where the code goes\n",
    "\n",
    "Here's a function and how it can be used in your code:"
   ]
  },
  {
   "cell_type": "code",
   "execution_count": 6,
   "metadata": {
    "collapsed": false,
    "deletable": true,
    "editable": true
   },
   "outputs": [
    {
     "name": "stdout",
     "output_type": "stream",
     "text": [
      "Women Who Code\n"
     ]
    }
   ],
   "source": [
    "# reserved word : function name : params\n",
    "def print_my_name(name):\n",
    "    # body\n",
    "    print(name)\n",
    "    \n",
    "# use it like this - anywhere in your program!\n",
    "print_my_name('Women Who Code')"
   ]
  },
  {
   "cell_type": "markdown",
   "metadata": {
    "deletable": true,
    "editable": true
   },
   "source": [
    "![Python 3](./images/function_wat.jpg)\n",
    "\n",
    "Source: https://www.codeproject.com/KB/database/663452/Slide3.JPG"
   ]
  },
  {
   "cell_type": "markdown",
   "metadata": {
    "deletable": true,
    "editable": true
   },
   "source": [
    "### Take a peek:\n",
    "> All the functions that are built into Python, take a look a try some:\n",
    "> https://docs.python.org/3/library/functions.html"
   ]
  },
  {
   "cell_type": "markdown",
   "metadata": {
    "deletable": true,
    "editable": true
   },
   "source": [
    "## Challenge: For the remainder of todays workshop, if you see code that is not part of a function - ask why!\n",
    "\n",
    "> There are only very limited real world cases where code should not be within a function, or some other code container."
   ]
  },
  {
   "cell_type": "markdown",
   "metadata": {
    "deletable": true,
    "editable": true
   },
   "source": [
    "# Guided examples"
   ]
  },
  {
   "cell_type": "markdown",
   "metadata": {
    "deletable": true,
    "editable": true
   },
   "source": [
    "1) Write a function that will ask the user for their name and print it to the screen."
   ]
  },
  {
   "cell_type": "code",
   "execution_count": null,
   "metadata": {
    "collapsed": true,
    "deletable": true,
    "editable": true
   },
   "outputs": [],
   "source": []
  },
  {
   "cell_type": "markdown",
   "metadata": {
    "deletable": true,
    "editable": true
   },
   "source": [
    "2) Write a function that prompts the user and adds 50 white spaces to each side of their response."
   ]
  },
  {
   "cell_type": "code",
   "execution_count": null,
   "metadata": {
    "collapsed": true,
    "deletable": true,
    "editable": true
   },
   "outputs": [],
   "source": []
  },
  {
   "cell_type": "markdown",
   "metadata": {
    "deletable": true,
    "editable": true
   },
   "source": [
    "3) Write a function that asks the user for a task and adds that task to a list."
   ]
  },
  {
   "cell_type": "code",
   "execution_count": null,
   "metadata": {
    "collapsed": true,
    "deletable": true,
    "editable": true
   },
   "outputs": [],
   "source": []
  },
  {
   "cell_type": "markdown",
   "metadata": {
    "deletable": true,
    "editable": true
   },
   "source": [
    "4) Lastly, let's see how we can combine the above using multiple functions."
   ]
  },
  {
   "cell_type": "code",
   "execution_count": null,
   "metadata": {
    "collapsed": true,
    "deletable": true,
    "editable": true
   },
   "outputs": [],
   "source": [
    "def get_user_input(message):\n",
    "    pass\n",
    "\n",
    "def wrap_text_with_character(text, character):\n",
    "    pass\n",
    "\n",
    "def get_wrap_save(message, character):\n",
    "    user_input = get_user_input(message)\n",
    "    wrapped_input = wrap_text_with_character(user_input, '*')\n",
    "    pass"
   ]
  },
  {
   "cell_type": "markdown",
   "metadata": {
    "deletable": true,
    "editable": true
   },
   "source": [
    "# Exercise"
   ]
  },
  {
   "cell_type": "markdown",
   "metadata": {
    "deletable": true,
    "editable": true
   },
   "source": [
    "Now that we have seen what functions are and how to use them, let's write some of our own to create a small application.\n",
    "\n",
    "Here's how it will look:"
   ]
  },
  {
   "cell_type": "code",
   "execution_count": null,
   "metadata": {
    "collapsed": true,
    "deletable": true,
    "editable": true
   },
   "outputs": [],
   "source": [
    "tasks = {\n",
    "    'category1': {\n",
    "        'done': []\n",
    "        'todo': []\n",
    "    },\n",
    "    'category2': {\n",
    "        'done': []\n",
    "        'todo': []\n",
    "    },\n",
    "}"
   ]
  },
  {
   "cell_type": "markdown",
   "metadata": {
    "deletable": true,
    "editable": true
   },
   "source": [
    ">  Deceptively simple, because the above dictionary is only **data**! It does not have any behaviour, it does not know **HOW** to be a todo list. We must use functions to provide that behaviour."
   ]
  },
  {
   "cell_type": "markdown",
   "metadata": {
    "deletable": true,
    "editable": true
   },
   "source": [
    " "
   ]
  },
  {
   "cell_type": "markdown",
   "metadata": {
    "deletable": true,
    "editable": true
   },
   "source": [
    "### Over to you! Follow each exercise to write a little more behaviour for our todo list each time. Remember to create more Notebook cells to test your work and experiment freely."
   ]
  },
  {
   "cell_type": "markdown",
   "metadata": {
    "deletable": true,
    "editable": true
   },
   "source": [
    "# 1)"
   ]
  },
  {
   "cell_type": "markdown",
   "metadata": {
    "deletable": true,
    "editable": true
   },
   "source": [
    "**Input**: `add_category(tasks, 'shopping')`\n",
    "\n",
    "**Expected output**: \n",
    "\n",
    "```tasks = {\n",
    "    'category1': {\n",
    "        'done': [],\n",
    "        'todo': []\n",
    "    },\n",
    "    'category2': {\n",
    "        'done': [],\n",
    "        'todo': []\n",
    "    },\n",
    "    'shopping': {\n",
    "        'done': [],\n",
    "        'todo': []\n",
    "    }\n",
    "}```"
   ]
  },
  {
   "cell_type": "code",
   "execution_count": null,
   "metadata": {
    "collapsed": true,
    "deletable": true,
    "editable": true
   },
   "outputs": [],
   "source": [
    "def add_category(tasks, category):\n",
    "    pass"
   ]
  },
  {
   "cell_type": "markdown",
   "metadata": {
    "deletable": true,
    "editable": true
   },
   "source": [
    "# 2)"
   ]
  },
  {
   "cell_type": "markdown",
   "metadata": {
    "deletable": true,
    "editable": true
   },
   "source": [
    "**Input**: `add_todo(tasks, 'category2', 'add more categories!')`\n",
    "\n",
    "**Expected output**: \n",
    "\n",
    "```tasks = {\n",
    "    'category1': {\n",
    "        'done': [],\n",
    "        'todo': []\n",
    "    },\n",
    "    'category2': {\n",
    "        'done': [],\n",
    "        'todo': ['add more categories!']\n",
    "    }\n",
    "}```"
   ]
  },
  {
   "cell_type": "code",
   "execution_count": null,
   "metadata": {
    "collapsed": true,
    "deletable": true,
    "editable": true
   },
   "outputs": [],
   "source": [
    "def add_todo(tasks, category, task):\n",
    "    pass"
   ]
  },
  {
   "cell_type": "markdown",
   "metadata": {
    "deletable": true,
    "editable": true
   },
   "source": [
    "# 3)"
   ]
  },
  {
   "cell_type": "markdown",
   "metadata": {
    "deletable": true,
    "editable": true
   },
   "source": [
    "**Input**: `mark_todo_done(tasks, 'category2', 0)`\n",
    "\n",
    "**Expected output**: \n",
    "\n",
    "```tasks = {\n",
    "    'category1': {\n",
    "        'done': [],\n",
    "        'todo': []\n",
    "    },\n",
    "    'category2': {\n",
    "        'done': ['add more categories!'],\n",
    "        'todo': []\n",
    "    }\n",
    "}```"
   ]
  },
  {
   "cell_type": "code",
   "execution_count": 1,
   "metadata": {
    "collapsed": true,
    "deletable": true,
    "editable": true
   },
   "outputs": [],
   "source": [
    "def mark_todo_done(tasks, category, task_id):\n",
    "    pass"
   ]
  },
  {
   "cell_type": "markdown",
   "metadata": {
    "deletable": true,
    "editable": true
   },
   "source": [
    "# 4) "
   ]
  },
  {
   "cell_type": "markdown",
   "metadata": {
    "deletable": true,
    "editable": true
   },
   "source": [
    "https://docs.python.org/3/library/functions.html#input\n",
    "\n",
    "**Input**: `get_category_from_user()`\n",
    "\n",
    "**Expected output**: \n",
    "\n",
    "`'shopping'`"
   ]
  },
  {
   "cell_type": "code",
   "execution_count": null,
   "metadata": {
    "collapsed": true,
    "deletable": true,
    "editable": true
   },
   "outputs": [],
   "source": [
    "def get_category_from_user():\n",
    "    pass"
   ]
  },
  {
   "cell_type": "markdown",
   "metadata": {
    "deletable": true,
    "editable": true
   },
   "source": [
    "# 5)"
   ]
  },
  {
   "cell_type": "markdown",
   "metadata": {
    "deletable": true,
    "editable": true
   },
   "source": [
    "https://docs.python.org/3/library/functions.html#input\n",
    "\n",
    "**Input**: `get_task_from_user()`\n",
    "\n",
    "**Expected output**: \n",
    "\n",
    "`'buy some milk'`"
   ]
  },
  {
   "cell_type": "code",
   "execution_count": null,
   "metadata": {
    "collapsed": true,
    "deletable": true,
    "editable": true
   },
   "outputs": [],
   "source": [
    "def get_task_from_user():\n",
    "    pass"
   ]
  },
  {
   "cell_type": "markdown",
   "metadata": {
    "deletable": true,
    "editable": true
   },
   "source": [
    "# 6) "
   ]
  },
  {
   "cell_type": "code",
   "execution_count": null,
   "metadata": {
    "collapsed": true,
    "deletable": true,
    "editable": true
   },
   "outputs": [],
   "source": [
    "def add_category_to_list(tasks):\n",
    "    pass\n",
    "\n",
    "def add_users_task_to_list(tasks):\n",
    "    pass"
   ]
  },
  {
   "cell_type": "markdown",
   "metadata": {
    "deletable": true,
    "editable": true
   },
   "source": [
    "# CLI Interlude!"
   ]
  },
  {
   "cell_type": "markdown",
   "metadata": {
    "deletable": true,
    "editable": true
   },
   "source": [
    "A **command line interface** (CLI) is any program that allows interaction with the computer via textual input and visualisation.\n",
    "\n",
    "On the Mac you can open your *Terminal* application or Windows users can open the *Command Prompt* or *Power Shell* utilities. Each of these are command line interfaces. Here's a simple illustration of how these programs work:"
   ]
  },
  {
   "cell_type": "markdown",
   "metadata": {
    "deletable": true,
    "editable": true
   },
   "source": [
    "![Python 3](./images/basic_cli_diagram.png)"
   ]
  },
  {
   "cell_type": "markdown",
   "metadata": {
    "deletable": true,
    "editable": true
   },
   "source": [
    "CLI program is opened. Then it waits. If you provide it some input, the program will attempt to match it to an action. Maybe that action will display some information, or launch an application, but the CLI doesn't care, it will simply begin waiting for your next command."
   ]
  },
  {
   "cell_type": "markdown",
   "metadata": {
    "deletable": true,
    "editable": true
   },
   "source": [
    "We want to create a simple command line interface for our TODO app. We need the app to wait indefinitely (it should never stop unless requested to do so). There is only one peice of syntax that allows us to keep a program running without end: `while` loops.\n",
    "\n",
    "In pseudo-code this would look like:"
   ]
  },
  {
   "cell_type": "markdown",
   "metadata": {
    "deletable": true,
    "editable": true
   },
   "source": [
    "```while True: # True is always True so it will never stop!\n",
    "    read_input\n",
    "    match_input_to_action\n",
    "        perform_action_or_exit\n",
    "    wait_some_more!\n",
    "``` "
   ]
  },
  {
   "cell_type": "markdown",
   "metadata": {
    "deletable": true,
    "editable": true
   },
   "source": [
    "So our diagram above becomes:"
   ]
  },
  {
   "cell_type": "markdown",
   "metadata": {
    "deletable": true,
    "editable": true
   },
   "source": [
    "![Python 3](./images/cli_todo_diagram.png)"
   ]
  },
  {
   "cell_type": "markdown",
   "metadata": {
    "deletable": true,
    "editable": true
   },
   "source": [
    "# 7)\n",
    "\n",
    "\n",
    "Finally, let's make a CLI to control the TODO functions we made earlier.\n",
    "\n",
    "How can you match what the user inputs to a particlar action? How does a computer make decisions!"
   ]
  },
  {
   "cell_type": "code",
   "execution_count": null,
   "metadata": {
    "collapsed": true,
    "deletable": true,
    "editable": true
   },
   "outputs": [],
   "source": [
    "def main():\n",
    "    while True:\n",
    "        user_input = get_user_input('What do you want to do?')"
   ]
  },
  {
   "cell_type": "markdown",
   "metadata": {
    "deletable": true,
    "editable": true
   },
   "source": [
    "**Bonus Round**:\n",
    "    \n",
    "1) Add an action so that the user can see all the tasks they have added\n",
    "\n",
    "2) What if we want to cancel or delete an item, rather than mark it complete?\n",
    "\n",
    "3) Could we add sub-categories?"
   ]
  },
  {
   "cell_type": "markdown",
   "metadata": {
    "collapsed": true,
    "deletable": true,
    "editable": true
   },
   "source": [
    " "
   ]
  },
  {
   "cell_type": "markdown",
   "metadata": {
    "collapsed": true,
    "deletable": true,
    "editable": true
   },
   "source": [
    "> # Open the `python103_modules` notebook when ready"
   ]
  },
  {
   "cell_type": "code",
   "execution_count": null,
   "metadata": {
    "collapsed": true,
    "deletable": true,
    "editable": true
   },
   "outputs": [],
   "source": []
  },
  {
   "cell_type": "code",
   "execution_count": null,
   "metadata": {
    "collapsed": true,
    "deletable": true,
    "editable": true
   },
   "outputs": [],
   "source": []
  },
  {
   "cell_type": "code",
   "execution_count": null,
   "metadata": {
    "collapsed": true,
    "deletable": true,
    "editable": true
   },
   "outputs": [],
   "source": []
  },
  {
   "cell_type": "code",
   "execution_count": null,
   "metadata": {
    "collapsed": true,
    "deletable": true,
    "editable": true
   },
   "outputs": [],
   "source": []
  }
 ],
 "metadata": {
  "kernelspec": {
   "display_name": "Python 3",
   "language": "python",
   "name": "python3"
  },
  "language_info": {
   "codemirror_mode": {
    "name": "ipython",
    "version": 3
   },
   "file_extension": ".py",
   "mimetype": "text/x-python",
   "name": "python",
   "nbconvert_exporter": "python",
   "pygments_lexer": "ipython3",
   "version": "3.6.0"
  }
 },
 "nbformat": 4,
 "nbformat_minor": 2
}
